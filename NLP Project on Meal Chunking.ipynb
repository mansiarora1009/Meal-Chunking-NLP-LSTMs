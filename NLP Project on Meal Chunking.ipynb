{
 "cells": [
  {
   "cell_type": "markdown",
   "metadata": {},
   "source": [
    "## NLP Project on Meal chunking"
   ]
  },
  {
   "cell_type": "code",
   "execution_count": 1,
   "metadata": {
    "collapsed": true
   },
   "outputs": [],
   "source": [
    "# importing libraries\n",
    "import numpy as np\n",
    "import pandas as pd\n",
    "import re"
   ]
  },
  {
   "cell_type": "code",
   "execution_count": 2,
   "metadata": {
    "collapsed": true
   },
   "outputs": [],
   "source": [
    "# importing datasets\n",
    "meals = pd.read_csv(\"meals.tsv\", sep=\"\\t\")\n",
    "meals_by_row = pd.read_csv(\"meal_by_row.tsv\", sep=\"\\t\")"
   ]
  },
  {
   "cell_type": "markdown",
   "metadata": {},
   "source": [
    "I decided to use Glove vectors to convert the words into their vector representations. The following piece of code creates a dictionary of the words and their embeddings from the file downloaded from Stanford's Glove NLP page."
   ]
  },
  {
   "cell_type": "code",
   "execution_count": 3,
   "metadata": {
    "collapsed": true
   },
   "outputs": [],
   "source": [
    "embeddings_index = {}\n",
    "with open('glove.840B.300d.txt', encoding='utf8') as f:\n",
    "    for line in f:\n",
    "        try:\n",
    "            temp = line.split()\n",
    "            word = temp[0]\n",
    "            coefs = np.asarray(temp[1:], dtype='float32')\n",
    "            embeddings_index[word] = coefs\n",
    "        except:\n",
    "            pass\n",
    "#             print(line)\n",
    "f.close()"
   ]
  },
  {
   "cell_type": "markdown",
   "metadata": {},
   "source": [
    "The following function converts a sentence into its vector representation. I split the sentences on a space. Also, since commas can carry important information here, I included a space before every comma and then split the sentence. So the sentence \"Eggs, Sausage and coffee\" was converted to \"Eggs , Sausage and coffee\" which now consists of 5 different elements [\"Eggs\", \",\", \"Sausage\", \"and\", \"coffee\"], each of which are converted to their vector representations."
   ]
  },
  {
   "cell_type": "code",
   "execution_count": 4,
   "metadata": {
    "collapsed": true
   },
   "outputs": [],
   "source": [
    "# this function creates a vector for the whole sentence\n",
    "def sent2vec(s):\n",
    "    words = str(s).lower()#.decode('utf-8')\n",
    "    words = re.sub(r'(?=[.,])(?=[^\\s^])', r' ', words)\n",
    "    words = words.split()\n",
    "    M = []\n",
    "    for w in words:\n",
    "        try:\n",
    "            M.append(embeddings_index[w])\n",
    "        except:\n",
    "            # if the word is not found, I just append a vector of 0's\n",
    "            M.append(np.zeros(300))\n",
    "    M = np.array(M)\n",
    "    return words, M"
   ]
  },
  {
   "cell_type": "code",
   "execution_count": 5,
   "metadata": {
    "collapsed": true
   },
   "outputs": [],
   "source": [
    "# creating columns for words and their vectors\n",
    "meals[\"words\"] = [sent2vec(i)[0] for i in meals[\"text\"]]\n",
    "meals[\"vector\"] = [sent2vec(i)[1] for i in meals[\"text\"]]"
   ]
  },
  {
   "cell_type": "code",
   "execution_count": 6,
   "metadata": {},
   "outputs": [
    {
     "data": {
      "text/plain": [
       "(7, 300)"
      ]
     },
     "execution_count": 6,
     "metadata": {},
     "output_type": "execute_result"
    }
   ],
   "source": [
    "meals[\"vector\"][0].shape"
   ]
  },
  {
   "cell_type": "code",
   "execution_count": 7,
   "metadata": {
    "collapsed": true
   },
   "outputs": [],
   "source": [
    "# converting a sentence into a sequence of numbers\n",
    "# if a chunk is a single word, it is denoted with 4\n",
    "# if a chunk has more than one word, the start word is denoted with 2\n",
    "# and the end word is denoted with 3\n",
    "def sent2seq(ix):\n",
    "    sentence_part = meals[meals[\"idmealjsons\"] == ix][\"words\"]\n",
    "    items_part = meals_by_row[meals_by_row[\"mealjson_id\"] == ix][\"text\"].values\n",
    "    start_points = []\n",
    "    end_points = []\n",
    "    single_points = []\n",
    "    if len(meals[meals[\"idmealjsons\"] == i]) > 0:\n",
    "        for j in items_part:\n",
    "            words = str(j).lower()#.decode('utf-8')\n",
    "            words = re.sub(r'(?=[.,])(?=[^\\s^])', r' ', words)\n",
    "            words = words.split()\n",
    "            if len(words) > 1:\n",
    "                start_point = words[0]\n",
    "                end_point  = words[-1]\n",
    "                start_points.append(start_point)\n",
    "                end_points.append(end_point)\n",
    "            else:\n",
    "                single_points.append(words[0])\n",
    "        output = np.zeros(len(list(sentence_part)[0]))\n",
    "        # start points\n",
    "        boolean_start = [i in start_points for i in list(sentence_part)[0]]\n",
    "        output[boolean_start] = 2\n",
    "        boolean_end = [i in end_points for i in list(sentence_part)[0]]\n",
    "        output[boolean_end] = 3\n",
    "        boolean_single = [i in single_points for i in list(sentence_part)[0]]\n",
    "        output[boolean_single] = 4\n",
    "        return output"
   ]
  },
  {
   "cell_type": "code",
   "execution_count": 8,
   "metadata": {
    "collapsed": true
   },
   "outputs": [],
   "source": [
    "meals_output = []\n",
    "for i in range(1, meals[\"idmealjsons\"].max()+1):\n",
    "    meals_output.append((i,sent2seq(i)))\n",
    "output_df = pd.DataFrame(meals_output, columns = [\"id\", \"output\"])"
   ]
  },
  {
   "cell_type": "code",
   "execution_count": 9,
   "metadata": {},
   "outputs": [
    {
     "data": {
      "text/plain": [
       "0"
      ]
     },
     "execution_count": 9,
     "metadata": {},
     "output_type": "execute_result"
    }
   ],
   "source": [
    "# merging the 2 datasets\n",
    "meals_combined = pd.merge(meals, output_df, left_on=\"idmealjsons\", right_on=\"id\", how=\"left\")\n",
    "vector_output = meals_combined[[\"idmealjsons\",\"vector\",\"output\"]]\n",
    "# checking if the length of the vector is the same as the output\n",
    "sum(sum([vector_output[\"vector\"].apply(len) != vector_output[\"output\"].apply(len)]))"
   ]
  },
  {
   "cell_type": "code",
   "execution_count": 10,
   "metadata": {},
   "outputs": [
    {
     "data": {
      "text/plain": [
       "12.0"
      ]
     },
     "execution_count": 10,
     "metadata": {},
     "output_type": "execute_result"
    }
   ],
   "source": [
    "# going to only consider vectors with length 12\n",
    "np.percentile(vector_output[\"vector\"].apply(len), q = 95)"
   ]
  },
  {
   "cell_type": "code",
   "execution_count": 11,
   "metadata": {},
   "outputs": [
    {
     "data": {
      "text/plain": [
       "5618"
      ]
     },
     "execution_count": 11,
     "metadata": {},
     "output_type": "execute_result"
    }
   ],
   "source": [
    "len(vector_output[vector_output[\"vector\"].apply(len) < 12])"
   ]
  },
  {
   "cell_type": "code",
   "execution_count": 12,
   "metadata": {
    "collapsed": true
   },
   "outputs": [],
   "source": [
    "vector_output_12 = vector_output[vector_output[\"vector\"].apply(len) < 12]"
   ]
  },
  {
   "cell_type": "code",
   "execution_count": 13,
   "metadata": {},
   "outputs": [
    {
     "data": {
      "text/html": [
       "<div>\n",
       "<style>\n",
       "    .dataframe thead tr:only-child th {\n",
       "        text-align: right;\n",
       "    }\n",
       "\n",
       "    .dataframe thead th {\n",
       "        text-align: left;\n",
       "    }\n",
       "\n",
       "    .dataframe tbody tr th {\n",
       "        vertical-align: top;\n",
       "    }\n",
       "</style>\n",
       "<table border=\"1\" class=\"dataframe\">\n",
       "  <thead>\n",
       "    <tr style=\"text-align: right;\">\n",
       "      <th></th>\n",
       "      <th>idmealjsons</th>\n",
       "      <th>vector</th>\n",
       "      <th>output</th>\n",
       "    </tr>\n",
       "  </thead>\n",
       "  <tbody>\n",
       "    <tr>\n",
       "      <th>0</th>\n",
       "      <td>1</td>\n",
       "      <td>[[-0.41781, -0.035192, -0.12615, -0.21593, -0....</td>\n",
       "      <td>[4.0, 0.0, 4.0, 0.0, 4.0, 0.0, 4.0]</td>\n",
       "    </tr>\n",
       "    <tr>\n",
       "      <th>1</th>\n",
       "      <td>2</td>\n",
       "      <td>[[-0.37412, -0.076264, 0.10926, 0.18662, 0.029...</td>\n",
       "      <td>[2.0, 3.0, 0.0, 4.0, 0.0, 4.0, 0.0, 2.0, 3.0]</td>\n",
       "    </tr>\n",
       "    <tr>\n",
       "      <th>2</th>\n",
       "      <td>3</td>\n",
       "      <td>[[-0.48838, 0.095686, 0.71593, -0.28175, 0.016...</td>\n",
       "      <td>[4.0, 0.0, 4.0, 0.0, 4.0]</td>\n",
       "    </tr>\n",
       "    <tr>\n",
       "      <th>3</th>\n",
       "      <td>4</td>\n",
       "      <td>[[-0.3449, -0.51021, 0.25005, -0.74105, 0.1379...</td>\n",
       "      <td>[2.0, 3.0]</td>\n",
       "    </tr>\n",
       "    <tr>\n",
       "      <th>4</th>\n",
       "      <td>5</td>\n",
       "      <td>[[-0.64583, -0.41343, 0.71445, 0.55511, 0.1908...</td>\n",
       "      <td>[4.0, 0.0, 4.0, 0.0, 4.0]</td>\n",
       "    </tr>\n",
       "  </tbody>\n",
       "</table>\n",
       "</div>"
      ],
      "text/plain": [
       "   idmealjsons                                             vector  \\\n",
       "0            1  [[-0.41781, -0.035192, -0.12615, -0.21593, -0....   \n",
       "1            2  [[-0.37412, -0.076264, 0.10926, 0.18662, 0.029...   \n",
       "2            3  [[-0.48838, 0.095686, 0.71593, -0.28175, 0.016...   \n",
       "3            4  [[-0.3449, -0.51021, 0.25005, -0.74105, 0.1379...   \n",
       "4            5  [[-0.64583, -0.41343, 0.71445, 0.55511, 0.1908...   \n",
       "\n",
       "                                          output  \n",
       "0            [4.0, 0.0, 4.0, 0.0, 4.0, 0.0, 4.0]  \n",
       "1  [2.0, 3.0, 0.0, 4.0, 0.0, 4.0, 0.0, 2.0, 3.0]  \n",
       "2                      [4.0, 0.0, 4.0, 0.0, 4.0]  \n",
       "3                                     [2.0, 3.0]  \n",
       "4                      [4.0, 0.0, 4.0, 0.0, 4.0]  "
      ]
     },
     "execution_count": 13,
     "metadata": {},
     "output_type": "execute_result"
    }
   ],
   "source": [
    "vector_output_12.head()"
   ]
  },
  {
   "cell_type": "code",
   "execution_count": 14,
   "metadata": {
    "scrolled": true
   },
   "outputs": [
    {
     "name": "stderr",
     "output_type": "stream",
     "text": [
      "C:\\Users\\mansiarora\\Anaconda3\\lib\\site-packages\\ipykernel_launcher.py:3: SettingWithCopyWarning: \n",
      "A value is trying to be set on a copy of a slice from a DataFrame.\n",
      "Try using .loc[row_indexer,col_indexer] = value instead\n",
      "\n",
      "See the caveats in the documentation: http://pandas.pydata.org/pandas-docs/stable/indexing.html#indexing-view-versus-copy\n",
      "  This is separate from the ipykernel package so we can avoid doing imports until\n",
      "C:\\Users\\mansiarora\\Anaconda3\\lib\\site-packages\\ipykernel_launcher.py:4: SettingWithCopyWarning: \n",
      "A value is trying to be set on a copy of a slice from a DataFrame.\n",
      "Try using .loc[row_indexer,col_indexer] = value instead\n",
      "\n",
      "See the caveats in the documentation: http://pandas.pydata.org/pandas-docs/stable/indexing.html#indexing-view-versus-copy\n",
      "  after removing the cwd from sys.path.\n",
      "C:\\Users\\mansiarora\\Anaconda3\\lib\\site-packages\\ipykernel_launcher.py:6: SettingWithCopyWarning: \n",
      "A value is trying to be set on a copy of a slice from a DataFrame.\n",
      "Try using .loc[row_indexer,col_indexer] = value instead\n",
      "\n",
      "See the caveats in the documentation: http://pandas.pydata.org/pandas-docs/stable/indexing.html#indexing-view-versus-copy\n",
      "  \n",
      "C:\\Users\\mansiarora\\Anaconda3\\lib\\site-packages\\ipykernel_launcher.py:7: SettingWithCopyWarning: \n",
      "A value is trying to be set on a copy of a slice from a DataFrame.\n",
      "Try using .loc[row_indexer,col_indexer] = value instead\n",
      "\n",
      "See the caveats in the documentation: http://pandas.pydata.org/pandas-docs/stable/indexing.html#indexing-view-versus-copy\n",
      "  import sys\n"
     ]
    }
   ],
   "source": [
    "# padding with 0's on the right\n",
    "list_extras = 12 - vector_output_12[\"vector\"].apply(len)\n",
    "vector_output_12[\"pad_right\"] = [np.ones((i, 300)) for i in list_extras]\n",
    "vector_output_12[\"y_pad_right\"] = [np.ones(i) for i in list_extras]\n",
    "\n",
    "vector_output_12[\"padded_vector\"] = [np.concatenate(i) for i in np.hstack((vector_output_12[[\"vector\"]], vector_output_12[[\"pad_right\"]]))]\n",
    "vector_output_12[\"padded_output\"] = [np.concatenate(i) for i in np.hstack((vector_output_12[[\"output\"]], vector_output_12[[\"y_pad_right\"]]))]"
   ]
  },
  {
   "cell_type": "code",
   "execution_count": 15,
   "metadata": {},
   "outputs": [
    {
     "name": "stdout",
     "output_type": "stream",
     "text": [
      "(5618, 12, 300)\n",
      "(5618, 12)\n"
     ]
    }
   ],
   "source": [
    "# creating the final datasets with 12 timesteps, 300 features\n",
    "final = vector_output_12[[\"padded_vector\", \"padded_output\"]]\n",
    "X = np.array([np.concatenate(i) for i in final[\"padded_vector\"]]).reshape(len(final), 12, 300)\n",
    "y = np.array([i for i in final[\"padded_output\"]]).reshape(len(final), 12)\n",
    "print(X.shape)\n",
    "print(y.shape)"
   ]
  },
  {
   "cell_type": "code",
   "execution_count": 16,
   "metadata": {},
   "outputs": [
    {
     "data": {
      "text/plain": [
       "544"
      ]
     },
     "execution_count": 16,
     "metadata": {},
     "output_type": "execute_result"
    }
   ],
   "source": [
    "# deciding length of validation set (has to be a multiple of 32 i.e. the batch size)\n",
    "int(len(X)*0.1/32)*32"
   ]
  },
  {
   "cell_type": "code",
   "execution_count": 17,
   "metadata": {},
   "outputs": [
    {
     "data": {
      "text/plain": [
       "4512"
      ]
     },
     "execution_count": 17,
     "metadata": {},
     "output_type": "execute_result"
    }
   ],
   "source": [
    "# deciding the length of training set\n",
    "int(((len(X) - 1088)/32))*32"
   ]
  },
  {
   "cell_type": "code",
   "execution_count": 18,
   "metadata": {},
   "outputs": [
    {
     "name": "stderr",
     "output_type": "stream",
     "text": [
      "C:\\Users\\mansiarora\\Anaconda3\\lib\\site-packages\\h5py\\__init__.py:34: FutureWarning: Conversion of the second argument of issubdtype from `float` to `np.floating` is deprecated. In future, it will be treated as `np.float64 == np.dtype(float).type`.\n",
      "  from ._conv import register_converters as _register_converters\n",
      "Using TensorFlow backend.\n"
     ]
    }
   ],
   "source": [
    "# converting y to categorical\n",
    "from keras.utils import to_categorical\n",
    "y = np.array([to_categorical(i, num_classes=5) for i in y])"
   ]
  },
  {
   "cell_type": "code",
   "execution_count": 19,
   "metadata": {},
   "outputs": [
    {
     "data": {
      "text/plain": [
       "(5618, 12, 5)"
      ]
     },
     "execution_count": 19,
     "metadata": {},
     "output_type": "execute_result"
    }
   ],
   "source": [
    "y.shape"
   ]
  },
  {
   "cell_type": "code",
   "execution_count": 20,
   "metadata": {},
   "outputs": [
    {
     "name": "stdout",
     "output_type": "stream",
     "text": [
      "(4512, 12, 300)\n",
      "(544, 12, 300)\n",
      "(544, 12, 300)\n",
      "(4512, 12, 5)\n",
      "(544, 12, 5)\n",
      "(544, 12, 5)\n"
     ]
    }
   ],
   "source": [
    "X_train = X[0:4512]\n",
    "X_val = X[4512:4512+544]\n",
    "X_test = X[4512+544:4512+544+544]\n",
    "y_train = y[0:4512]\n",
    "y_val = y[4512:4512+544]\n",
    "y_test = y[4512+544:4512+544+544]\n",
    "\n",
    "print(X_train.shape)\n",
    "print(X_val.shape)\n",
    "print(X_test.shape)\n",
    "print(y_train.shape)\n",
    "print(y_val.shape)\n",
    "print(y_test.shape)"
   ]
  },
  {
   "cell_type": "markdown",
   "metadata": {},
   "source": [
    "Chose LSTMs because this is a sequence problem, where the history of the words matters to decide when to start and stop the subsequence"
   ]
  },
  {
   "cell_type": "code",
   "execution_count": 21,
   "metadata": {},
   "outputs": [
    {
     "name": "stdout",
     "output_type": "stream",
     "text": [
      "_________________________________________________________________\n",
      "Layer (type)                 Output Shape              Param #   \n",
      "=================================================================\n",
      "lstm_1 (LSTM)                (32, 12, 30)              39720     \n",
      "_________________________________________________________________\n",
      "time_distributed_1 (TimeDist (32, 12, 5)               155       \n",
      "=================================================================\n",
      "Total params: 39,875\n",
      "Trainable params: 39,875\n",
      "Non-trainable params: 0\n",
      "_________________________________________________________________\n"
     ]
    }
   ],
   "source": [
    "# Model\n",
    "from keras.models import Sequential\n",
    "from keras.layers.recurrent import LSTM\n",
    "from keras.layers import Bidirectional, TimeDistributed\n",
    "from keras.layers.core import Dense\n",
    "from keras import optimizers\n",
    "model = Sequential()\n",
    "model.add(LSTM(30, batch_input_shape = (32, 12, 300), return_sequences=True))\n",
    "model.add(TimeDistributed(Dense(5, activation=\"softmax\"))) # softmax output layer\n",
    "adam = optimizers.Adam(0.0001)\n",
    "model.compile(loss = \"categorical_crossentropy\", optimizer = adam)\n",
    "model.summary()"
   ]
  },
  {
   "cell_type": "code",
   "execution_count": 22,
   "metadata": {
    "collapsed": true
   },
   "outputs": [],
   "source": [
    "val_loss = []\n",
    "loss = []\n",
    "history = model.fit(X_train, y_train, shuffle=True,\n",
    "                    epochs = 50, batch_size=32, validation_data = (X_val, y_val), verbose=0)"
   ]
  },
  {
   "cell_type": "code",
   "execution_count": 23,
   "metadata": {},
   "outputs": [
    {
     "data": {
      "image/png": "[encoded data removed]",
      "text/plain": [
       "<matplotlib.figure.Figure at 0x1f9fa023d68>"
      ]
     },
     "metadata": {},
     "output_type": "display_data"
    }
   ],
   "source": [
    "from matplotlib import pyplot as plt\n",
    "plt.plot(history.history['loss'], color=\"red\")\n",
    "plt.plot(history.history['val_loss'], color = \"blue\")\n",
    "plt.show()"
   ]
  },
  {
   "cell_type": "code",
   "execution_count": 24,
   "metadata": {
    "collapsed": true
   },
   "outputs": [],
   "source": [
    "y_pred = model.predict(X_test)"
   ]
  },
  {
   "cell_type": "code",
   "execution_count": 25,
   "metadata": {},
   "outputs": [
    {
     "data": {
      "text/html": [
       "<div>\n",
       "<style>\n",
       "    .dataframe thead tr:only-child th {\n",
       "        text-align: right;\n",
       "    }\n",
       "\n",
       "    .dataframe thead th {\n",
       "        text-align: left;\n",
       "    }\n",
       "\n",
       "    .dataframe tbody tr th {\n",
       "        vertical-align: top;\n",
       "    }\n",
       "</style>\n",
       "<table border=\"1\" class=\"dataframe\">\n",
       "  <thead>\n",
       "    <tr style=\"text-align: right;\">\n",
       "      <th></th>\n",
       "      <th>Predicted</th>\n",
       "      <th>Actual</th>\n",
       "    </tr>\n",
       "  </thead>\n",
       "  <tbody>\n",
       "    <tr>\n",
       "      <th>0</th>\n",
       "      <td>[4, 0, 3, 1, 1, 1, 1, 1, 1, 1, 1, 1]</td>\n",
       "      <td>[2, 0, 3, 1, 1, 1, 1, 1, 1, 1, 1, 1]</td>\n",
       "    </tr>\n",
       "    <tr>\n",
       "      <th>1</th>\n",
       "      <td>[4, 0, 4, 0, 4, 0, 2, 1, 1, 1, 1, 1]</td>\n",
       "      <td>[4, 0, 4, 0, 4, 0, 4, 1, 1, 1, 1, 1]</td>\n",
       "    </tr>\n",
       "    <tr>\n",
       "      <th>2</th>\n",
       "      <td>[4, 4, 4, 1, 1, 1, 1, 1, 1, 1, 1, 1]</td>\n",
       "      <td>[4, 4, 4, 1, 1, 1, 1, 1, 1, 1, 1, 1]</td>\n",
       "    </tr>\n",
       "    <tr>\n",
       "      <th>3</th>\n",
       "      <td>[4, 4, 4, 4, 1, 1, 1, 1, 1, 1, 1, 1]</td>\n",
       "      <td>[2, 0, 3, 4, 1, 1, 1, 1, 1, 1, 1, 1]</td>\n",
       "    </tr>\n",
       "    <tr>\n",
       "      <th>4</th>\n",
       "      <td>[2, 3, 1, 1, 1, 1, 1, 1, 1, 1, 1, 1]</td>\n",
       "      <td>[2, 3, 1, 1, 1, 1, 1, 1, 1, 1, 1, 1]</td>\n",
       "    </tr>\n",
       "    <tr>\n",
       "      <th>5</th>\n",
       "      <td>[4, 0, 3, 0, 4, 1, 1, 1, 1, 1, 1, 1]</td>\n",
       "      <td>[2, 0, 3, 0, 4, 1, 1, 1, 1, 1, 1, 1]</td>\n",
       "    </tr>\n",
       "    <tr>\n",
       "      <th>6</th>\n",
       "      <td>[4, 0, 3, 0, 4, 0, 4, 0, 4, 1, 1, 1]</td>\n",
       "      <td>[2, 0, 3, 0, 4, 0, 4, 0, 4, 1, 1, 1]</td>\n",
       "    </tr>\n",
       "    <tr>\n",
       "      <th>7</th>\n",
       "      <td>[4, 3, 1, 1, 1, 1, 1, 1, 1, 1, 1, 1]</td>\n",
       "      <td>[2, 3, 1, 1, 1, 1, 1, 1, 1, 1, 1, 1]</td>\n",
       "    </tr>\n",
       "    <tr>\n",
       "      <th>8</th>\n",
       "      <td>[2, 0, 3, 1, 1, 1, 1, 1, 1, 1, 1, 1]</td>\n",
       "      <td>[2, 0, 3, 1, 1, 1, 1, 1, 1, 1, 1, 1]</td>\n",
       "    </tr>\n",
       "    <tr>\n",
       "      <th>9</th>\n",
       "      <td>[4, 1, 1, 1, 1, 1, 1, 1, 1, 1, 1, 1]</td>\n",
       "      <td>[4, 1, 1, 1, 1, 1, 1, 1, 1, 1, 1, 1]</td>\n",
       "    </tr>\n",
       "    <tr>\n",
       "      <th>10</th>\n",
       "      <td>[4, 0, 2, 3, 0, 4, 0, 4, 0, 1, 1, 1]</td>\n",
       "      <td>[4, 0, 2, 3, 0, 2, 0, 3, 0, 1, 1, 1]</td>\n",
       "    </tr>\n",
       "    <tr>\n",
       "      <th>11</th>\n",
       "      <td>[4, 0, 4, 0, 4, 0, 4, 0, 2, 3, 0, 1]</td>\n",
       "      <td>[4, 0, 4, 0, 4, 0, 4, 0, 2, 3, 0, 1]</td>\n",
       "    </tr>\n",
       "    <tr>\n",
       "      <th>12</th>\n",
       "      <td>[2, 3, 1, 1, 1, 1, 1, 1, 1, 1, 1, 1]</td>\n",
       "      <td>[2, 3, 1, 1, 1, 1, 1, 1, 1, 1, 1, 1]</td>\n",
       "    </tr>\n",
       "    <tr>\n",
       "      <th>13</th>\n",
       "      <td>[4, 1, 1, 1, 1, 1, 1, 1, 1, 1, 1, 1]</td>\n",
       "      <td>[4, 1, 1, 1, 1, 1, 1, 1, 1, 1, 1, 1]</td>\n",
       "    </tr>\n",
       "    <tr>\n",
       "      <th>14</th>\n",
       "      <td>[2, 0, 4, 0, 4, 1, 1, 1, 1, 1, 1, 1]</td>\n",
       "      <td>[4, 0, 2, 0, 3, 1, 1, 1, 1, 1, 1, 1]</td>\n",
       "    </tr>\n",
       "    <tr>\n",
       "      <th>15</th>\n",
       "      <td>[2, 0, 3, 0, 4, 1, 1, 1, 1, 1, 1, 1]</td>\n",
       "      <td>[2, 0, 3, 0, 4, 1, 1, 1, 1, 1, 1, 1]</td>\n",
       "    </tr>\n",
       "    <tr>\n",
       "      <th>16</th>\n",
       "      <td>[4, 1, 1, 1, 1, 1, 1, 1, 1, 1, 1, 1]</td>\n",
       "      <td>[4, 1, 1, 1, 1, 1, 1, 1, 1, 1, 1, 1]</td>\n",
       "    </tr>\n",
       "    <tr>\n",
       "      <th>17</th>\n",
       "      <td>[2, 3, 3, 0, 4, 1, 1, 1, 1, 1, 1, 1]</td>\n",
       "      <td>[2, 0, 3, 0, 4, 1, 1, 1, 1, 1, 1, 1]</td>\n",
       "    </tr>\n",
       "    <tr>\n",
       "      <th>18</th>\n",
       "      <td>[2, 3, 0, 4, 0, 4, 1, 1, 1, 1, 1, 1]</td>\n",
       "      <td>[2, 3, 0, 4, 0, 4, 1, 1, 1, 1, 1, 1]</td>\n",
       "    </tr>\n",
       "    <tr>\n",
       "      <th>19</th>\n",
       "      <td>[4, 4, 3, 1, 1, 1, 1, 1, 1, 1, 1, 1]</td>\n",
       "      <td>[4, 4, 4, 1, 1, 1, 1, 1, 1, 1, 1, 1]</td>\n",
       "    </tr>\n",
       "    <tr>\n",
       "      <th>20</th>\n",
       "      <td>[4, 3, 1, 1, 1, 1, 1, 1, 1, 1, 1, 1]</td>\n",
       "      <td>[2, 3, 1, 1, 1, 1, 1, 1, 1, 1, 1, 1]</td>\n",
       "    </tr>\n",
       "    <tr>\n",
       "      <th>21</th>\n",
       "      <td>[2, 0, 3, 0, 0, 0, 3, 4, 1, 1, 1, 1]</td>\n",
       "      <td>[2, 3, 2, 3, 4, 2, 3, 4, 1, 1, 1, 1]</td>\n",
       "    </tr>\n",
       "    <tr>\n",
       "      <th>22</th>\n",
       "      <td>[4, 3, 1, 1, 1, 1, 1, 1, 1, 1, 1, 1]</td>\n",
       "      <td>[2, 3, 1, 1, 1, 1, 1, 1, 1, 1, 1, 1]</td>\n",
       "    </tr>\n",
       "    <tr>\n",
       "      <th>23</th>\n",
       "      <td>[4, 4, 4, 4, 1, 1, 1, 1, 1, 1, 1, 1]</td>\n",
       "      <td>[2, 0, 0, 3, 1, 1, 1, 1, 1, 1, 1, 1]</td>\n",
       "    </tr>\n",
       "    <tr>\n",
       "      <th>24</th>\n",
       "      <td>[4, 0, 4, 1, 1, 1, 1, 1, 1, 1, 1, 1]</td>\n",
       "      <td>[4, 0, 4, 1, 1, 1, 1, 1, 1, 1, 1, 1]</td>\n",
       "    </tr>\n",
       "    <tr>\n",
       "      <th>25</th>\n",
       "      <td>[4, 0, 4, 1, 1, 1, 1, 1, 1, 1, 1, 1]</td>\n",
       "      <td>[2, 0, 3, 1, 1, 1, 1, 1, 1, 1, 1, 1]</td>\n",
       "    </tr>\n",
       "    <tr>\n",
       "      <th>26</th>\n",
       "      <td>[2, 0, 1, 1, 1, 1, 1, 1, 1, 1, 1, 1]</td>\n",
       "      <td>[2, 3, 1, 1, 1, 1, 1, 1, 1, 1, 1, 1]</td>\n",
       "    </tr>\n",
       "    <tr>\n",
       "      <th>27</th>\n",
       "      <td>[4, 1, 1, 1, 1, 1, 1, 1, 1, 1, 1, 1]</td>\n",
       "      <td>[4, 1, 1, 1, 1, 1, 1, 1, 1, 1, 1, 1]</td>\n",
       "    </tr>\n",
       "    <tr>\n",
       "      <th>28</th>\n",
       "      <td>[2, 3, 1, 1, 1, 1, 1, 1, 1, 1, 1, 1]</td>\n",
       "      <td>[2, 3, 1, 1, 1, 1, 1, 1, 1, 1, 1, 1]</td>\n",
       "    </tr>\n",
       "    <tr>\n",
       "      <th>29</th>\n",
       "      <td>[2, 3, 1, 1, 1, 1, 1, 1, 1, 1, 1, 1]</td>\n",
       "      <td>[2, 3, 1, 1, 1, 1, 1, 1, 1, 1, 1, 1]</td>\n",
       "    </tr>\n",
       "    <tr>\n",
       "      <th>...</th>\n",
       "      <td>...</td>\n",
       "      <td>...</td>\n",
       "    </tr>\n",
       "    <tr>\n",
       "      <th>514</th>\n",
       "      <td>[4, 0, 4, 3, 3, 0, 4, 0, 1, 1, 1, 1]</td>\n",
       "      <td>[4, 0, 2, 0, 3, 0, 4, 0, 1, 1, 1, 1]</td>\n",
       "    </tr>\n",
       "    <tr>\n",
       "      <th>515</th>\n",
       "      <td>[2, 3, 0, 4, 1, 1, 1, 1, 1, 1, 1, 1]</td>\n",
       "      <td>[2, 3, 0, 4, 1, 1, 1, 1, 1, 1, 1, 1]</td>\n",
       "    </tr>\n",
       "    <tr>\n",
       "      <th>516</th>\n",
       "      <td>[2, 3, 0, 4, 1, 1, 1, 1, 1, 1, 1, 1]</td>\n",
       "      <td>[2, 3, 0, 4, 1, 1, 1, 1, 1, 1, 1, 1]</td>\n",
       "    </tr>\n",
       "    <tr>\n",
       "      <th>517</th>\n",
       "      <td>[2, 3, 0, 0, 0, 3, 0, 2, 1, 1, 1, 1]</td>\n",
       "      <td>[2, 0, 0, 0, 0, 0, 0, 3, 1, 1, 1, 1]</td>\n",
       "    </tr>\n",
       "    <tr>\n",
       "      <th>518</th>\n",
       "      <td>[2, 0, 4, 0, 4, 0, 4, 0, 4, 3, 1, 1]</td>\n",
       "      <td>[4, 0, 4, 0, 4, 0, 4, 0, 2, 3, 1, 1]</td>\n",
       "    </tr>\n",
       "    <tr>\n",
       "      <th>519</th>\n",
       "      <td>[2, 3, 3, 1, 1, 1, 1, 1, 1, 1, 1, 1]</td>\n",
       "      <td>[2, 3, 4, 1, 1, 1, 1, 1, 1, 1, 1, 1]</td>\n",
       "    </tr>\n",
       "    <tr>\n",
       "      <th>520</th>\n",
       "      <td>[4, 0, 3, 1, 1, 1, 1, 1, 1, 1, 1, 1]</td>\n",
       "      <td>[4, 0, 4, 1, 1, 1, 1, 1, 1, 1, 1, 1]</td>\n",
       "    </tr>\n",
       "    <tr>\n",
       "      <th>521</th>\n",
       "      <td>[4, 3, 4, 1, 1, 1, 1, 1, 1, 1, 1, 1]</td>\n",
       "      <td>[4, 4, 4, 1, 1, 1, 1, 1, 1, 1, 1, 1]</td>\n",
       "    </tr>\n",
       "    <tr>\n",
       "      <th>522</th>\n",
       "      <td>[4, 1, 1, 1, 1, 1, 1, 1, 1, 1, 1, 1]</td>\n",
       "      <td>[4, 1, 1, 1, 1, 1, 1, 1, 1, 1, 1, 1]</td>\n",
       "    </tr>\n",
       "    <tr>\n",
       "      <th>523</th>\n",
       "      <td>[2, 0, 3, 1, 1, 1, 1, 1, 1, 1, 1, 1]</td>\n",
       "      <td>[2, 0, 3, 1, 1, 1, 1, 1, 1, 1, 1, 1]</td>\n",
       "    </tr>\n",
       "    <tr>\n",
       "      <th>524</th>\n",
       "      <td>[4, 0, 4, 0, 4, 1, 1, 1, 1, 1, 1, 1]</td>\n",
       "      <td>[4, 0, 4, 0, 4, 1, 1, 1, 1, 1, 1, 1]</td>\n",
       "    </tr>\n",
       "    <tr>\n",
       "      <th>525</th>\n",
       "      <td>[4, 1, 1, 1, 1, 1, 1, 1, 1, 1, 1, 1]</td>\n",
       "      <td>[4, 1, 1, 1, 1, 1, 1, 1, 1, 1, 1, 1]</td>\n",
       "    </tr>\n",
       "    <tr>\n",
       "      <th>526</th>\n",
       "      <td>[4, 0, 2, 3, 1, 1, 1, 1, 1, 1, 1, 1]</td>\n",
       "      <td>[4, 0, 2, 3, 1, 1, 1, 1, 1, 1, 1, 1]</td>\n",
       "    </tr>\n",
       "    <tr>\n",
       "      <th>527</th>\n",
       "      <td>[4, 0, 4, 0, 4, 1, 1, 1, 1, 1, 1, 1]</td>\n",
       "      <td>[4, 0, 4, 0, 4, 1, 1, 1, 1, 1, 1, 1]</td>\n",
       "    </tr>\n",
       "    <tr>\n",
       "      <th>528</th>\n",
       "      <td>[2, 0, 0, 3, 1, 1, 1, 1, 1, 1, 1, 1]</td>\n",
       "      <td>[2, 0, 0, 3, 1, 1, 1, 1, 1, 1, 1, 1]</td>\n",
       "    </tr>\n",
       "    <tr>\n",
       "      <th>529</th>\n",
       "      <td>[2, 3, 0, 2, 0, 3, 0, 2, 3, 1, 1, 1]</td>\n",
       "      <td>[2, 3, 0, 2, 0, 3, 0, 2, 3, 1, 1, 1]</td>\n",
       "    </tr>\n",
       "    <tr>\n",
       "      <th>530</th>\n",
       "      <td>[4, 1, 1, 1, 1, 1, 1, 1, 1, 1, 1, 1]</td>\n",
       "      <td>[4, 1, 1, 1, 1, 1, 1, 1, 1, 1, 1, 1]</td>\n",
       "    </tr>\n",
       "    <tr>\n",
       "      <th>531</th>\n",
       "      <td>[4, 0, 4, 0, 4, 0, 4, 1, 1, 1, 1, 1]</td>\n",
       "      <td>[4, 0, 4, 0, 4, 0, 4, 1, 1, 1, 1, 1]</td>\n",
       "    </tr>\n",
       "    <tr>\n",
       "      <th>532</th>\n",
       "      <td>[2, 0, 0, 3, 0, 4, 1, 1, 1, 1, 1, 1]</td>\n",
       "      <td>[2, 0, 0, 3, 0, 4, 1, 1, 1, 1, 1, 1]</td>\n",
       "    </tr>\n",
       "    <tr>\n",
       "      <th>533</th>\n",
       "      <td>[2, 0, 3, 0, 4, 0, 4, 0, 4, 0, 4, 1]</td>\n",
       "      <td>[2, 0, 3, 0, 4, 0, 4, 0, 4, 0, 4, 1]</td>\n",
       "    </tr>\n",
       "    <tr>\n",
       "      <th>534</th>\n",
       "      <td>[4, 0, 4, 1, 1, 1, 1, 1, 1, 1, 1, 1]</td>\n",
       "      <td>[4, 0, 4, 1, 1, 1, 1, 1, 1, 1, 1, 1]</td>\n",
       "    </tr>\n",
       "    <tr>\n",
       "      <th>535</th>\n",
       "      <td>[4, 0, 2, 3, 0, 4, 0, 4, 0, 2, 3, 1]</td>\n",
       "      <td>[4, 0, 2, 3, 0, 4, 0, 4, 0, 2, 3, 1]</td>\n",
       "    </tr>\n",
       "    <tr>\n",
       "      <th>536</th>\n",
       "      <td>[2, 0, 0, 3, 1, 1, 1, 1, 1, 1, 1, 1]</td>\n",
       "      <td>[2, 0, 0, 3, 1, 1, 1, 1, 1, 1, 1, 1]</td>\n",
       "    </tr>\n",
       "    <tr>\n",
       "      <th>537</th>\n",
       "      <td>[2, 0, 4, 0, 4, 3, 0, 4, 1, 1, 1, 1]</td>\n",
       "      <td>[4, 0, 4, 0, 2, 3, 0, 4, 1, 1, 1, 1]</td>\n",
       "    </tr>\n",
       "    <tr>\n",
       "      <th>538</th>\n",
       "      <td>[2, 3, 0, 4, 1, 1, 1, 1, 1, 1, 1, 1]</td>\n",
       "      <td>[2, 3, 0, 4, 1, 1, 1, 1, 1, 1, 1, 1]</td>\n",
       "    </tr>\n",
       "    <tr>\n",
       "      <th>539</th>\n",
       "      <td>[4, 1, 1, 1, 1, 1, 1, 1, 1, 1, 1, 1]</td>\n",
       "      <td>[4, 1, 1, 1, 1, 1, 1, 1, 1, 1, 1, 1]</td>\n",
       "    </tr>\n",
       "    <tr>\n",
       "      <th>540</th>\n",
       "      <td>[4, 1, 1, 1, 1, 1, 1, 1, 1, 1, 1, 1]</td>\n",
       "      <td>[4, 1, 1, 1, 1, 1, 1, 1, 1, 1, 1, 1]</td>\n",
       "    </tr>\n",
       "    <tr>\n",
       "      <th>541</th>\n",
       "      <td>[2, 0, 3, 0, 4, 1, 1, 1, 1, 1, 1, 1]</td>\n",
       "      <td>[2, 0, 3, 0, 4, 1, 1, 1, 1, 1, 1, 1]</td>\n",
       "    </tr>\n",
       "    <tr>\n",
       "      <th>542</th>\n",
       "      <td>[2, 3, 3, 0, 2, 1, 1, 1, 1, 1, 1, 1]</td>\n",
       "      <td>[2, 0, 3, 0, 4, 1, 1, 1, 1, 1, 1, 1]</td>\n",
       "    </tr>\n",
       "    <tr>\n",
       "      <th>543</th>\n",
       "      <td>[2, 0, 0, 3, 3, 1, 1, 1, 1, 1, 1, 1]</td>\n",
       "      <td>[2, 0, 0, 0, 3, 1, 1, 1, 1, 1, 1, 1]</td>\n",
       "    </tr>\n",
       "  </tbody>\n",
       "</table>\n",
       "<p>544 rows × 2 columns</p>\n",
       "</div>"
      ],
      "text/plain": [
       "                                Predicted  \\\n",
       "0    [4, 0, 3, 1, 1, 1, 1, 1, 1, 1, 1, 1]   \n",
       "1    [4, 0, 4, 0, 4, 0, 2, 1, 1, 1, 1, 1]   \n",
       "2    [4, 4, 4, 1, 1, 1, 1, 1, 1, 1, 1, 1]   \n",
       "3    [4, 4, 4, 4, 1, 1, 1, 1, 1, 1, 1, 1]   \n",
       "4    [2, 3, 1, 1, 1, 1, 1, 1, 1, 1, 1, 1]   \n",
       "5    [4, 0, 3, 0, 4, 1, 1, 1, 1, 1, 1, 1]   \n",
       "6    [4, 0, 3, 0, 4, 0, 4, 0, 4, 1, 1, 1]   \n",
       "7    [4, 3, 1, 1, 1, 1, 1, 1, 1, 1, 1, 1]   \n",
       "8    [2, 0, 3, 1, 1, 1, 1, 1, 1, 1, 1, 1]   \n",
       "9    [4, 1, 1, 1, 1, 1, 1, 1, 1, 1, 1, 1]   \n",
       "10   [4, 0, 2, 3, 0, 4, 0, 4, 0, 1, 1, 1]   \n",
       "11   [4, 0, 4, 0, 4, 0, 4, 0, 2, 3, 0, 1]   \n",
       "12   [2, 3, 1, 1, 1, 1, 1, 1, 1, 1, 1, 1]   \n",
       "13   [4, 1, 1, 1, 1, 1, 1, 1, 1, 1, 1, 1]   \n",
       "14   [2, 0, 4, 0, 4, 1, 1, 1, 1, 1, 1, 1]   \n",
       "15   [2, 0, 3, 0, 4, 1, 1, 1, 1, 1, 1, 1]   \n",
       "16   [4, 1, 1, 1, 1, 1, 1, 1, 1, 1, 1, 1]   \n",
       "17   [2, 3, 3, 0, 4, 1, 1, 1, 1, 1, 1, 1]   \n",
       "18   [2, 3, 0, 4, 0, 4, 1, 1, 1, 1, 1, 1]   \n",
       "19   [4, 4, 3, 1, 1, 1, 1, 1, 1, 1, 1, 1]   \n",
       "20   [4, 3, 1, 1, 1, 1, 1, 1, 1, 1, 1, 1]   \n",
       "21   [2, 0, 3, 0, 0, 0, 3, 4, 1, 1, 1, 1]   \n",
       "22   [4, 3, 1, 1, 1, 1, 1, 1, 1, 1, 1, 1]   \n",
       "23   [4, 4, 4, 4, 1, 1, 1, 1, 1, 1, 1, 1]   \n",
       "24   [4, 0, 4, 1, 1, 1, 1, 1, 1, 1, 1, 1]   \n",
       "25   [4, 0, 4, 1, 1, 1, 1, 1, 1, 1, 1, 1]   \n",
       "26   [2, 0, 1, 1, 1, 1, 1, 1, 1, 1, 1, 1]   \n",
       "27   [4, 1, 1, 1, 1, 1, 1, 1, 1, 1, 1, 1]   \n",
       "28   [2, 3, 1, 1, 1, 1, 1, 1, 1, 1, 1, 1]   \n",
       "29   [2, 3, 1, 1, 1, 1, 1, 1, 1, 1, 1, 1]   \n",
       "..                                    ...   \n",
       "514  [4, 0, 4, 3, 3, 0, 4, 0, 1, 1, 1, 1]   \n",
       "515  [2, 3, 0, 4, 1, 1, 1, 1, 1, 1, 1, 1]   \n",
       "516  [2, 3, 0, 4, 1, 1, 1, 1, 1, 1, 1, 1]   \n",
       "517  [2, 3, 0, 0, 0, 3, 0, 2, 1, 1, 1, 1]   \n",
       "518  [2, 0, 4, 0, 4, 0, 4, 0, 4, 3, 1, 1]   \n",
       "519  [2, 3, 3, 1, 1, 1, 1, 1, 1, 1, 1, 1]   \n",
       "520  [4, 0, 3, 1, 1, 1, 1, 1, 1, 1, 1, 1]   \n",
       "521  [4, 3, 4, 1, 1, 1, 1, 1, 1, 1, 1, 1]   \n",
       "522  [4, 1, 1, 1, 1, 1, 1, 1, 1, 1, 1, 1]   \n",
       "523  [2, 0, 3, 1, 1, 1, 1, 1, 1, 1, 1, 1]   \n",
       "524  [4, 0, 4, 0, 4, 1, 1, 1, 1, 1, 1, 1]   \n",
       "525  [4, 1, 1, 1, 1, 1, 1, 1, 1, 1, 1, 1]   \n",
       "526  [4, 0, 2, 3, 1, 1, 1, 1, 1, 1, 1, 1]   \n",
       "527  [4, 0, 4, 0, 4, 1, 1, 1, 1, 1, 1, 1]   \n",
       "528  [2, 0, 0, 3, 1, 1, 1, 1, 1, 1, 1, 1]   \n",
       "529  [2, 3, 0, 2, 0, 3, 0, 2, 3, 1, 1, 1]   \n",
       "530  [4, 1, 1, 1, 1, 1, 1, 1, 1, 1, 1, 1]   \n",
       "531  [4, 0, 4, 0, 4, 0, 4, 1, 1, 1, 1, 1]   \n",
       "532  [2, 0, 0, 3, 0, 4, 1, 1, 1, 1, 1, 1]   \n",
       "533  [2, 0, 3, 0, 4, 0, 4, 0, 4, 0, 4, 1]   \n",
       "534  [4, 0, 4, 1, 1, 1, 1, 1, 1, 1, 1, 1]   \n",
       "535  [4, 0, 2, 3, 0, 4, 0, 4, 0, 2, 3, 1]   \n",
       "536  [2, 0, 0, 3, 1, 1, 1, 1, 1, 1, 1, 1]   \n",
       "537  [2, 0, 4, 0, 4, 3, 0, 4, 1, 1, 1, 1]   \n",
       "538  [2, 3, 0, 4, 1, 1, 1, 1, 1, 1, 1, 1]   \n",
       "539  [4, 1, 1, 1, 1, 1, 1, 1, 1, 1, 1, 1]   \n",
       "540  [4, 1, 1, 1, 1, 1, 1, 1, 1, 1, 1, 1]   \n",
       "541  [2, 0, 3, 0, 4, 1, 1, 1, 1, 1, 1, 1]   \n",
       "542  [2, 3, 3, 0, 2, 1, 1, 1, 1, 1, 1, 1]   \n",
       "543  [2, 0, 0, 3, 3, 1, 1, 1, 1, 1, 1, 1]   \n",
       "\n",
       "                                   Actual  \n",
       "0    [2, 0, 3, 1, 1, 1, 1, 1, 1, 1, 1, 1]  \n",
       "1    [4, 0, 4, 0, 4, 0, 4, 1, 1, 1, 1, 1]  \n",
       "2    [4, 4, 4, 1, 1, 1, 1, 1, 1, 1, 1, 1]  \n",
       "3    [2, 0, 3, 4, 1, 1, 1, 1, 1, 1, 1, 1]  \n",
       "4    [2, 3, 1, 1, 1, 1, 1, 1, 1, 1, 1, 1]  \n",
       "5    [2, 0, 3, 0, 4, 1, 1, 1, 1, 1, 1, 1]  \n",
       "6    [2, 0, 3, 0, 4, 0, 4, 0, 4, 1, 1, 1]  \n",
       "7    [2, 3, 1, 1, 1, 1, 1, 1, 1, 1, 1, 1]  \n",
       "8    [2, 0, 3, 1, 1, 1, 1, 1, 1, 1, 1, 1]  \n",
       "9    [4, 1, 1, 1, 1, 1, 1, 1, 1, 1, 1, 1]  \n",
       "10   [4, 0, 2, 3, 0, 2, 0, 3, 0, 1, 1, 1]  \n",
       "11   [4, 0, 4, 0, 4, 0, 4, 0, 2, 3, 0, 1]  \n",
       "12   [2, 3, 1, 1, 1, 1, 1, 1, 1, 1, 1, 1]  \n",
       "13   [4, 1, 1, 1, 1, 1, 1, 1, 1, 1, 1, 1]  \n",
       "14   [4, 0, 2, 0, 3, 1, 1, 1, 1, 1, 1, 1]  \n",
       "15   [2, 0, 3, 0, 4, 1, 1, 1, 1, 1, 1, 1]  \n",
       "16   [4, 1, 1, 1, 1, 1, 1, 1, 1, 1, 1, 1]  \n",
       "17   [2, 0, 3, 0, 4, 1, 1, 1, 1, 1, 1, 1]  \n",
       "18   [2, 3, 0, 4, 0, 4, 1, 1, 1, 1, 1, 1]  \n",
       "19   [4, 4, 4, 1, 1, 1, 1, 1, 1, 1, 1, 1]  \n",
       "20   [2, 3, 1, 1, 1, 1, 1, 1, 1, 1, 1, 1]  \n",
       "21   [2, 3, 2, 3, 4, 2, 3, 4, 1, 1, 1, 1]  \n",
       "22   [2, 3, 1, 1, 1, 1, 1, 1, 1, 1, 1, 1]  \n",
       "23   [2, 0, 0, 3, 1, 1, 1, 1, 1, 1, 1, 1]  \n",
       "24   [4, 0, 4, 1, 1, 1, 1, 1, 1, 1, 1, 1]  \n",
       "25   [2, 0, 3, 1, 1, 1, 1, 1, 1, 1, 1, 1]  \n",
       "26   [2, 3, 1, 1, 1, 1, 1, 1, 1, 1, 1, 1]  \n",
       "27   [4, 1, 1, 1, 1, 1, 1, 1, 1, 1, 1, 1]  \n",
       "28   [2, 3, 1, 1, 1, 1, 1, 1, 1, 1, 1, 1]  \n",
       "29   [2, 3, 1, 1, 1, 1, 1, 1, 1, 1, 1, 1]  \n",
       "..                                    ...  \n",
       "514  [4, 0, 2, 0, 3, 0, 4, 0, 1, 1, 1, 1]  \n",
       "515  [2, 3, 0, 4, 1, 1, 1, 1, 1, 1, 1, 1]  \n",
       "516  [2, 3, 0, 4, 1, 1, 1, 1, 1, 1, 1, 1]  \n",
       "517  [2, 0, 0, 0, 0, 0, 0, 3, 1, 1, 1, 1]  \n",
       "518  [4, 0, 4, 0, 4, 0, 4, 0, 2, 3, 1, 1]  \n",
       "519  [2, 3, 4, 1, 1, 1, 1, 1, 1, 1, 1, 1]  \n",
       "520  [4, 0, 4, 1, 1, 1, 1, 1, 1, 1, 1, 1]  \n",
       "521  [4, 4, 4, 1, 1, 1, 1, 1, 1, 1, 1, 1]  \n",
       "522  [4, 1, 1, 1, 1, 1, 1, 1, 1, 1, 1, 1]  \n",
       "523  [2, 0, 3, 1, 1, 1, 1, 1, 1, 1, 1, 1]  \n",
       "524  [4, 0, 4, 0, 4, 1, 1, 1, 1, 1, 1, 1]  \n",
       "525  [4, 1, 1, 1, 1, 1, 1, 1, 1, 1, 1, 1]  \n",
       "526  [4, 0, 2, 3, 1, 1, 1, 1, 1, 1, 1, 1]  \n",
       "527  [4, 0, 4, 0, 4, 1, 1, 1, 1, 1, 1, 1]  \n",
       "528  [2, 0, 0, 3, 1, 1, 1, 1, 1, 1, 1, 1]  \n",
       "529  [2, 3, 0, 2, 0, 3, 0, 2, 3, 1, 1, 1]  \n",
       "530  [4, 1, 1, 1, 1, 1, 1, 1, 1, 1, 1, 1]  \n",
       "531  [4, 0, 4, 0, 4, 0, 4, 1, 1, 1, 1, 1]  \n",
       "532  [2, 0, 0, 3, 0, 4, 1, 1, 1, 1, 1, 1]  \n",
       "533  [2, 0, 3, 0, 4, 0, 4, 0, 4, 0, 4, 1]  \n",
       "534  [4, 0, 4, 1, 1, 1, 1, 1, 1, 1, 1, 1]  \n",
       "535  [4, 0, 2, 3, 0, 4, 0, 4, 0, 2, 3, 1]  \n",
       "536  [2, 0, 0, 3, 1, 1, 1, 1, 1, 1, 1, 1]  \n",
       "537  [4, 0, 4, 0, 2, 3, 0, 4, 1, 1, 1, 1]  \n",
       "538  [2, 3, 0, 4, 1, 1, 1, 1, 1, 1, 1, 1]  \n",
       "539  [4, 1, 1, 1, 1, 1, 1, 1, 1, 1, 1, 1]  \n",
       "540  [4, 1, 1, 1, 1, 1, 1, 1, 1, 1, 1, 1]  \n",
       "541  [2, 0, 3, 0, 4, 1, 1, 1, 1, 1, 1, 1]  \n",
       "542  [2, 0, 3, 0, 4, 1, 1, 1, 1, 1, 1, 1]  \n",
       "543  [2, 0, 0, 0, 3, 1, 1, 1, 1, 1, 1, 1]  \n",
       "\n",
       "[544 rows x 2 columns]"
      ]
     },
     "execution_count": 25,
     "metadata": {},
     "output_type": "execute_result"
    }
   ],
   "source": [
    "# Results \n",
    "# 2 means start the chunk, 3 means end the chunk, 4 means it's a single word\n",
    "meal_ids = vector_output_12[4512+544:4512+544+544][\"idmealjsons\"]\n",
    "meals_test = pd.DataFrame(meals[meals[\"idmealjsons\"].isin(meal_ids)][\"words\"]).reset_index(drop=True)\n",
    "actual_pred = pd.DataFrame([(np.argmax(y_pred[i], axis=1),np.argmax(y_test[i], axis=1)) for i in range(len(y_pred))], columns = [\"Predicted\", \"Actual\"])\n",
    "pd.concat((actual_pred, meals_test), axis=1)[[\"Predicted\", \"Actual\"]]"
   ]
  },
  {
   "cell_type": "markdown",
   "metadata": {},
   "source": [
    "As we can see, by scrolling of the examples, the model is able to accurately detect when to start and stop the chunks."
   ]
  }
 ],
 "metadata": {
  "kernelspec": {
   "display_name": "Python 3",
   "language": "python",
   "name": "python3"
  },
  "language_info": {
   "codemirror_mode": {
    "name": "ipython",
    "version": 3
   },
   "file_extension": ".py",
   "mimetype": "text/x-python",
   "name": "python",
   "nbconvert_exporter": "python",
   "pygments_lexer": "ipython3",
   "version": "3.6.3"
  }
 },
 "nbformat": 4,
 "nbformat_minor": 2
}
